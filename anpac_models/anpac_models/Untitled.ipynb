{
 "cells": [
  {
   "cell_type": "code",
   "execution_count": 1,
   "id": "6a62ffe0",
   "metadata": {
    "ExecuteTime": {
     "start_time": "2023-06-03T20:41:45.522825Z",
     "end_time": "2023-06-03T20:41:48.747435Z"
    }
   },
   "outputs": [],
   "source": [
    "import pandas as pd\n",
    "from sklearn.model_selection import train_test_split"
   ]
  },
  {
   "cell_type": "code",
   "execution_count": 2,
   "id": "0c9ce527",
   "metadata": {
    "ExecuteTime": {
     "start_time": "2023-06-03T20:41:48.748433Z",
     "end_time": "2023-06-03T20:41:49.060865Z"
    }
   },
   "outputs": [],
   "source": [
    "ds = pd.read_csv('../../Dataset-Unicauca-Version2-87Atts.csv',nrows=5_000)"
   ]
  },
  {
   "cell_type": "code",
   "execution_count": 3,
   "outputs": [],
   "source": [
    "X_columns = ['Source.IP', 'Source.Port', 'Destination.IP', 'Destination.Port',\n",
    "       'Protocol', 'Timestamp', 'Flow.Duration', 'Total.Fwd.Packets',\n",
    "       'Total.Backward.Packets', 'Total.Length.of.Fwd.Packets',\n",
    "       'Total.Length.of.Bwd.Packets', 'Fwd.Packet.Length.Max',\n",
    "       'Fwd.Packet.Length.Min', 'Fwd.Packet.Length.Mean',\n",
    "       'Fwd.Packet.Length.Std', 'Bwd.Packet.Length.Max',\n",
    "       'Bwd.Packet.Length.Min', 'Bwd.Packet.Length.Mean',\n",
    "       'Bwd.Packet.Length.Std', 'Flow.Bytes.s', 'Flow.Packets.s',\n",
    "       'Flow.IAT.Mean', 'Flow.IAT.Std', 'Flow.IAT.Max', 'Flow.IAT.Min',\n",
    "       'Fwd.IAT.Total', 'Fwd.IAT.Mean', 'Fwd.IAT.Std', 'Fwd.IAT.Max',\n",
    "       'Fwd.IAT.Min', 'Bwd.IAT.Total', 'Bwd.IAT.Mean', 'Bwd.IAT.Std',\n",
    "       'Bwd.IAT.Max', 'Bwd.IAT.Min', 'Fwd.Header.Length', 'Bwd.Header.Length',\n",
    "       'Fwd.Packets.s', 'Bwd.Packets.s', 'Min.Packet.Length',\n",
    "       'Max.Packet.Length', 'Packet.Length.Mean', 'Packet.Length.Std',\n",
    "       'Packet.Length.Variance', 'Down.Up.Ratio', 'Average.Packet.Size',\n",
    "       'Avg.Fwd.Segment.Size', 'Avg.Bwd.Segment.Size', 'Fwd.Header.Length.1',\n",
    "       'Subflow.Fwd.Packets', 'Subflow.Fwd.Bytes', 'Subflow.Bwd.Packets',\n",
    "       'Subflow.Bwd.Bytes', 'Init_Win_bytes_forward',\n",
    "       'Init_Win_bytes_backward', 'act_data_pkt_fwd', 'min_seg_size_forward',\n",
    "       'Active.Mean', 'Active.Std', 'Active.Max', 'Active.Min', 'Idle.Mean',\n",
    "       'Idle.Std', 'Idle.Max', 'Idle.Min', 'Label',\n",
    "       ]"
   ],
   "metadata": {
    "collapsed": false,
    "ExecuteTime": {
     "start_time": "2023-06-03T20:41:49.063857Z",
     "end_time": "2023-06-03T20:41:49.074579Z"
    }
   }
  },
  {
   "cell_type": "code",
   "execution_count": 4,
   "id": "cf7a7dd3",
   "metadata": {
    "ExecuteTime": {
     "start_time": "2023-06-03T20:41:49.078570Z",
     "end_time": "2023-06-03T20:41:49.120806Z"
    }
   },
   "outputs": [
    {
     "data": {
      "text/plain": "Index(['Flow.ID', 'Source.IP', 'Source.Port', 'Destination.IP',\n       'Destination.Port', 'Protocol', 'Timestamp', 'Flow.Duration',\n       'Total.Fwd.Packets', 'Total.Backward.Packets',\n       'Total.Length.of.Fwd.Packets', 'Total.Length.of.Bwd.Packets',\n       'Fwd.Packet.Length.Max', 'Fwd.Packet.Length.Min',\n       'Fwd.Packet.Length.Mean', 'Fwd.Packet.Length.Std',\n       'Bwd.Packet.Length.Max', 'Bwd.Packet.Length.Min',\n       'Bwd.Packet.Length.Mean', 'Bwd.Packet.Length.Std', 'Flow.Bytes.s',\n       'Flow.Packets.s', 'Flow.IAT.Mean', 'Flow.IAT.Std', 'Flow.IAT.Max',\n       'Flow.IAT.Min', 'Fwd.IAT.Total', 'Fwd.IAT.Mean', 'Fwd.IAT.Std',\n       'Fwd.IAT.Max', 'Fwd.IAT.Min', 'Bwd.IAT.Total', 'Bwd.IAT.Mean',\n       'Bwd.IAT.Std', 'Bwd.IAT.Max', 'Bwd.IAT.Min', 'Fwd.PSH.Flags',\n       'Bwd.PSH.Flags', 'Fwd.URG.Flags', 'Bwd.URG.Flags', 'Fwd.Header.Length',\n       'Bwd.Header.Length', 'Fwd.Packets.s', 'Bwd.Packets.s',\n       'Min.Packet.Length', 'Max.Packet.Length', 'Packet.Length.Mean',\n       'Packet.Length.Std', 'Packet.Length.Variance', 'FIN.Flag.Count',\n       'SYN.Flag.Count', 'RST.Flag.Count', 'PSH.Flag.Count', 'ACK.Flag.Count',\n       'URG.Flag.Count', 'CWE.Flag.Count', 'ECE.Flag.Count', 'Down.Up.Ratio',\n       'Average.Packet.Size', 'Avg.Fwd.Segment.Size', 'Avg.Bwd.Segment.Size',\n       'Fwd.Header.Length.1', 'Fwd.Avg.Bytes.Bulk', 'Fwd.Avg.Packets.Bulk',\n       'Fwd.Avg.Bulk.Rate', 'Bwd.Avg.Bytes.Bulk', 'Bwd.Avg.Packets.Bulk',\n       'Bwd.Avg.Bulk.Rate', 'Subflow.Fwd.Packets', 'Subflow.Fwd.Bytes',\n       'Subflow.Bwd.Packets', 'Subflow.Bwd.Bytes', 'Init_Win_bytes_forward',\n       'Init_Win_bytes_backward', 'act_data_pkt_fwd', 'min_seg_size_forward',\n       'Active.Mean', 'Active.Std', 'Active.Max', 'Active.Min', 'Idle.Mean',\n       'Idle.Std', 'Idle.Max', 'Idle.Min', 'Label', 'L7Protocol',\n       'ProtocolName'],\n      dtype='object')"
     },
     "execution_count": 4,
     "metadata": {},
     "output_type": "execute_result"
    }
   ],
   "source": [
    "ds.columns"
   ]
  },
  {
   "cell_type": "code",
   "execution_count": 7,
   "id": "fb9b0d4f",
   "metadata": {
    "ExecuteTime": {
     "start_time": "2023-06-03T20:42:07.067326Z",
     "end_time": "2023-06-03T20:42:07.132178Z"
    }
   },
   "outputs": [],
   "source": [
    "X_train, X_test = train_test_split(ds, train_size=0.8)"
   ]
  },
  {
   "cell_type": "code",
   "execution_count": 8,
   "outputs": [
    {
     "data": {
      "text/plain": "(15000, 87)"
     },
     "execution_count": 8,
     "metadata": {},
     "output_type": "execute_result"
    }
   ],
   "source": [
    "X_train.shape"
   ],
   "metadata": {
    "collapsed": false,
    "ExecuteTime": {
     "start_time": "2023-06-03T20:42:08.328279Z",
     "end_time": "2023-06-03T20:42:08.345610Z"
    }
   }
  },
  {
   "cell_type": "code",
   "execution_count": 9,
   "outputs": [],
   "source": [
    "X_train.to_csv('train_data.csv', index=False)"
   ],
   "metadata": {
    "collapsed": false,
    "ExecuteTime": {
     "start_time": "2023-06-03T20:42:09.581443Z",
     "end_time": "2023-06-03T20:42:10.046030Z"
    }
   }
  },
  {
   "cell_type": "code",
   "execution_count": 10,
   "outputs": [
    {
     "data": {
      "text/plain": "(35000, 87)"
     },
     "execution_count": 10,
     "metadata": {},
     "output_type": "execute_result"
    }
   ],
   "source": [
    "X_test.shape\n"
   ],
   "metadata": {
    "collapsed": false,
    "ExecuteTime": {
     "start_time": "2023-06-03T20:42:10.613609Z",
     "end_time": "2023-06-03T20:42:10.626583Z"
    }
   }
  },
  {
   "cell_type": "code",
   "execution_count": 11,
   "outputs": [],
   "source": [
    "X_test[X_columns].to_csv('new_data.csv', index=False)\n"
   ],
   "metadata": {
    "collapsed": false,
    "ExecuteTime": {
     "start_time": "2023-06-03T20:42:11.233152Z",
     "end_time": "2023-06-03T20:42:12.296322Z"
    }
   }
  },
  {
   "cell_type": "code",
   "execution_count": null,
   "outputs": [],
   "source": [],
   "metadata": {
    "collapsed": false
   }
  }
 ],
 "metadata": {
  "kernelspec": {
   "display_name": "Python 3 (ipykernel)",
   "language": "python",
   "name": "python3"
  },
  "language_info": {
   "codemirror_mode": {
    "name": "ipython",
    "version": 3
   },
   "file_extension": ".py",
   "mimetype": "text/x-python",
   "name": "python",
   "nbconvert_exporter": "python",
   "pygments_lexer": "ipython3",
   "version": "3.10.0"
  }
 },
 "nbformat": 4,
 "nbformat_minor": 5
}
